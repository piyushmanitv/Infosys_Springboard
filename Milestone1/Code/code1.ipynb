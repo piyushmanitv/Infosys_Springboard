{
 "cells": [
  {
   "cell_type": "markdown",
   "id": "667711cb-6a02-4d60-9e90-d5f803c87c0d",
   "metadata": {},
   "source": [
    "# Milestone 1 — Code Explainer\n",
    "\n",
    "**Author:** Piyushmani Tiwari  \n",
    "**Project:** Infosys CodeGenie — AI Explainer & Code Generator  \n",
    "**Objective:** Build a pipeline to parse Python code snippets, extract structural elements, tokenize, generate embeddings using MiniLM, DistilRoBERTa, and MPNet (via `sentence-transformers`), compare and visualize outputs.\n",
    "\n",
    "This notebook is designed to run on **Google Colab**. It installs required libraries, parses code snippets using `ast`, extracts features, tokenizes code, generates embeddings (using `sentence-transformers` models), computes similarities, visualizes embeddings with PCA and t-SNE, and saves results to `results/`."
   ]
  },
  {
   "cell_type": "markdown",
   "id": "9715de63-851e-44c6-8ae4-0e5127a31009",
   "metadata": {},
   "source": [
    "# Section 1: Setup & Imports\n",
    "\n",
    "Install and import libraries for semantic analysis, visualization, parsing, and code generation."
   ]
  },
  {
   "cell_type": "code",
   "execution_count": 4,
   "id": "4eefc599-d78d-4e9a-96e3-19eb67ebdda1",
   "metadata": {},
   "outputs": [],
   "source": [
    "# 1) Install dependencies\n",
    "!pip install -q sentence-transformers transformers scikit-learn matplotlib seaborn tabulate\n",
    "\n",
    "# Imports\n",
    "import ast\n",
    "import json\n",
    "from pathlib import Path\n",
    "from sentence_transformers import SentenceTransformer\n",
    "from transformers import AutoTokenizer\n",
    "import numpy as np\n",
    "from sklearn.metrics.pairwise import cosine_similarity\n",
    "from sklearn.decomposition import PCA\n",
    "from sklearn.manifold import TSNE\n",
    "import matplotlib.pyplot as plt\n",
    "import seaborn as sns\n",
    "import pandas as pd\n",
    "from tabulate import tabulate\n",
    "sns.set()\n"
   ]
  },
  {
   "cell_type": "markdown",
   "id": "4518acb6-f3b8-4c26-9a59-c46c5479caf7",
   "metadata": {},
   "source": [
    "# Section 2: Example Code Snippets"
   ]
  },
  {
   "cell_type": "code",
   "execution_count": 15,
   "id": "0b60d1fc-3b70-4f91-8c83-5426b7f57280",
   "metadata": {},
   "outputs": [
    {
     "name": "stdout",
     "output_type": "stream",
     "text": [
      "Loaded 10 original-style snippets:\n",
      "Program_1: 159 characters\n",
      "Program_2: 187 characters\n",
      "Program_3: 300 characters\n",
      "Program_4: 173 characters\n",
      "Program_5: 183 characters\n",
      "Program_6: 209 characters\n",
      "Program_7: 300 characters\n",
      "Program_8: 189 characters\n",
      "Program_9: 169 characters\n",
      "Program_10: 243 characters\n"
     ]
    }
   ],
   "source": [
    "code_snippets = [\n",
    "    \"\"\"# 1. Add three numbers\n",
    "a, b, c = 2, 4, 6\n",
    "total = a + b + c\n",
    "print(\"The total is:\", total)\n",
    "# Explanation: Instead of adding two numbers, this adds three values.\n",
    "\"\"\",\n",
    "    \"\"\"# 2. Factorial using loop\n",
    "n = 5\n",
    "fact = 1\n",
    "for i in range(1, n+1):\n",
    "    fact *= i\n",
    "print(\"Factorial of\", n, \"is\", fact)\n",
    "# Explanation: Uses iterative loop instead of recursion for factorial.\n",
    "\"\"\",\n",
    "    \"\"\"# 3. Prime check (simple flag method)\n",
    "num = 13\n",
    "prime = True\n",
    "if num <= 1:\n",
    "    prime = False\n",
    "else:\n",
    "    for i in range(2, int(num/2)+1):\n",
    "        if num % i == 0:\n",
    "            prime = False\n",
    "            break\n",
    "print(num, \"is prime?\", prime)\n",
    "# Explanation: Checks divisibility only up to half of the number.\n",
    "\"\"\",\n",
    "    \"\"\"# 4. Area of rectangle\n",
    "length = 8\n",
    "width = 3\n",
    "area = length * width\n",
    "print(\"Area of rectangle:\", area)\n",
    "# Explanation: Uses l × w formula instead of circle to vary the example.\n",
    "\"\"\",\n",
    "    \"\"\"# 5. Fibonacci using loop\n",
    "n = 7\n",
    "a, b = 0, 1\n",
    "for i in range(n-1):\n",
    "    a, b = b, a+b\n",
    "print(n, \"th Fibonacci number is:\", a)\n",
    "# Explanation: Iterative approach avoids recursion overhead.\n",
    "\"\"\",\n",
    "    \"\"\"# 6. Palindrome check\n",
    "word = \"level\"\n",
    "if word == word[::-1]:\n",
    "    print(word, \"is a palindrome\")\n",
    "else:\n",
    "    print(word, \"is not a palindrome\")\n",
    "# Explanation: Compares string with its reverse to check palindrome.\n",
    "\"\"\",\n",
    "    \"\"\"# 7. Count consonants in a string\n",
    "def count_consonants(s):\n",
    "    vowels = \"aeiouAEIOU\"\n",
    "    return sum(1 for ch in s if ch.isalpha() and ch not in vowels)\n",
    "text = \"Machine Learning\"\n",
    "print(\"Number of consonants:\", count_consonants(text))\n",
    "# Explanation: Modified from vowel counting to consonant counting.\n",
    "\"\"\",\n",
    "    \"\"\"# 8. Average of list elements\n",
    "numbers = [4, 8, 15, 16, 23, 42]\n",
    "average = sum(numbers)/len(numbers)\n",
    "print(\"Average of list:\", average)\n",
    "# Explanation: Divides total sum by count of elements.\n",
    "\"\"\",\n",
    "    \"\"\"# 9. Find minimum in a list\n",
    "data = [55, 12, 87, 34, 6]\n",
    "print(\"Smallest number is:\", min(data))\n",
    "# Explanation: Uses built-in min() instead of max() to make it different.\n",
    "\"\"\",\n",
    "    \"\"\"# 10. Check divisibility by 3 and 5\n",
    "num = 15\n",
    "if num % 3 == 0 and num % 5 == 0:\n",
    "    print(num, \"is divisible by both 3 and 5\")\n",
    "else:\n",
    "    print(num, \"is not divisible by both\")\n",
    "# Explanation: Simple divisibility test with logical AND condition.\n",
    "\"\"\"\n",
    "]\n",
    "\n",
    "snippet_names = [f\"Program_{i+1}\" for i in range(len(code_snippets))]\n",
    "\n",
    "print(\"Loaded 10 original-style snippets:\")\n",
    "for name, text in zip(snippet_names, code_snippets):\n",
    "    print(f\"{name}: {len(text)} characters\")\n"
   ]
  },
  {
   "cell_type": "markdown",
   "id": "79d2d0ee-21b2-41b4-bfab-c3f543ff10ee",
   "metadata": {},
   "source": [
    "# Section 3: AST parsing function"
   ]
  },
  {
   "cell_type": "code",
   "execution_count": 14,
   "id": "349cb34b-03e1-4931-a0fa-698287bd7b2a",
   "metadata": {},
   "outputs": [
    {
     "name": "stdout",
     "output_type": "stream",
     "text": [
      "\n",
      "=== AST for Snippet 1 ===\n",
      "Module(\n",
      "    body=[\n",
      "        Assign(\n",
      "            targets=[\n",
      "                Tuple(\n",
      "                    elts=[\n",
      "                        Name(id='a', ctx=Store()),\n",
      "                        Name(id='b', ctx=Store()),\n",
      "                        Name(id='c', ctx=Store())],\n",
      "                    ctx=Store())],\n",
      "            value=Tuple(\n",
      "                elts=[\n",
      "                    Constant(value=2),\n",
      "                    Constant(value=4),\n",
      "                    Constant(value=6)],\n",
      "                ctx=Load())),\n",
      "        Assign(\n",
      "            targets=[\n",
      "                Name(id='total', ctx=Store())],\n",
      "            value=BinOp(\n",
      "                left=BinOp(\n",
      "                    left=Name(id='a', ctx=Load()),\n",
      "                    op=Add(),\n",
      "                    right=Name(id='b', ctx=Load())),\n",
      "                op=Add(),\n",
      "                right=Name(id='c', ctx=Load()))),\n",
      "        Expr(\n",
      "            value=Call(\n",
      "                func=Name(id='print', ctx=Load()),\n",
      "                args=[\n",
      "                    Constant(value='The total i\n",
      "\n",
      "=== AST for Snippet 2 ===\n",
      "Module(\n",
      "    body=[\n",
      "        Assign(\n",
      "            targets=[\n",
      "                Name(id='n', ctx=Store())],\n",
      "            value=Constant(value=5)),\n",
      "        Assign(\n",
      "            targets=[\n",
      "                Name(id='fact', ctx=Store())],\n",
      "            value=Constant(value=1)),\n",
      "        For(\n",
      "            target=Name(id='i', ctx=Store()),\n",
      "            iter=Call(\n",
      "                func=Name(id='range', ctx=Load()),\n",
      "                args=[\n",
      "                    Constant(value=1),\n",
      "                    BinOp(\n",
      "                        left=Name(id='n', ctx=Load()),\n",
      "                        op=Add(),\n",
      "                        right=Constant(value=1))]),\n",
      "            body=[\n",
      "                AugAssign(\n",
      "                    target=Name(id='fact', ctx=Store()),\n",
      "                    op=Mult(),\n",
      "                    value=Name(id='i', ctx=Load()))]),\n",
      "        Expr(\n",
      "            value=Call(\n",
      "                func=Name(id='print', ctx=Load()),\n",
      "                args=[\n",
      "                    Constant(value='Factorial of'),\n",
      "                    Na\n",
      "\n",
      "=== AST for Snippet 3 ===\n",
      "Module(\n",
      "    body=[\n",
      "        Assign(\n",
      "            targets=[\n",
      "                Name(id='num', ctx=Store())],\n",
      "            value=Constant(value=13)),\n",
      "        Assign(\n",
      "            targets=[\n",
      "                Name(id='prime', ctx=Store())],\n",
      "            value=Constant(value=True)),\n",
      "        If(\n",
      "            test=Compare(\n",
      "                left=Name(id='num', ctx=Load()),\n",
      "                ops=[\n",
      "                    LtE()],\n",
      "                comparators=[\n",
      "                    Constant(value=1)]),\n",
      "            body=[\n",
      "                Assign(\n",
      "                    targets=[\n",
      "                        Name(id='prime', ctx=Store())],\n",
      "                    value=Constant(value=False))],\n",
      "            orelse=[\n",
      "                For(\n",
      "                    target=Name(id='i', ctx=Store()),\n",
      "                    iter=Call(\n",
      "                        func=Name(id='range', ctx=Load()),\n",
      "                        args=[\n",
      "                            Constant(value=2),\n",
      "                            BinOp(\n",
      "                                left=Call(\n",
      " \n",
      "\n",
      "=== AST for Snippet 4 ===\n",
      "Module(\n",
      "    body=[\n",
      "        Assign(\n",
      "            targets=[\n",
      "                Name(id='length', ctx=Store())],\n",
      "            value=Constant(value=8)),\n",
      "        Assign(\n",
      "            targets=[\n",
      "                Name(id='width', ctx=Store())],\n",
      "            value=Constant(value=3)),\n",
      "        Assign(\n",
      "            targets=[\n",
      "                Name(id='area', ctx=Store())],\n",
      "            value=BinOp(\n",
      "                left=Name(id='length', ctx=Load()),\n",
      "                op=Mult(),\n",
      "                right=Name(id='width', ctx=Load()))),\n",
      "        Expr(\n",
      "            value=Call(\n",
      "                func=Name(id='print', ctx=Load()),\n",
      "                args=[\n",
      "                    Constant(value='Area of rectangle:'),\n",
      "                    Name(id='area', ctx=Load())]))])\n",
      "\n",
      "=== AST for Snippet 5 ===\n",
      "Module(\n",
      "    body=[\n",
      "        Assign(\n",
      "            targets=[\n",
      "                Name(id='n', ctx=Store())],\n",
      "            value=Constant(value=7)),\n",
      "        Assign(\n",
      "            targets=[\n",
      "                Tuple(\n",
      "                    elts=[\n",
      "                        Name(id='a', ctx=Store()),\n",
      "                        Name(id='b', ctx=Store())],\n",
      "                    ctx=Store())],\n",
      "            value=Tuple(\n",
      "                elts=[\n",
      "                    Constant(value=0),\n",
      "                    Constant(value=1)],\n",
      "                ctx=Load())),\n",
      "        For(\n",
      "            target=Name(id='i', ctx=Store()),\n",
      "            iter=Call(\n",
      "                func=Name(id='range', ctx=Load()),\n",
      "                args=[\n",
      "                    BinOp(\n",
      "                        left=Name(id='n', ctx=Load()),\n",
      "                        op=Sub(),\n",
      "                        right=Constant(value=1))]),\n",
      "            body=[\n",
      "                Assign(\n",
      "                    targets=[\n",
      "                        Tuple(\n",
      "                            elts=[\n",
      "               \n",
      "\n",
      "=== AST for Snippet 6 ===\n",
      "Module(\n",
      "    body=[\n",
      "        Assign(\n",
      "            targets=[\n",
      "                Name(id='word', ctx=Store())],\n",
      "            value=Constant(value='level')),\n",
      "        If(\n",
      "            test=Compare(\n",
      "                left=Name(id='word', ctx=Load()),\n",
      "                ops=[\n",
      "                    Eq()],\n",
      "                comparators=[\n",
      "                    Subscript(\n",
      "                        value=Name(id='word', ctx=Load()),\n",
      "                        slice=Slice(\n",
      "                            step=UnaryOp(\n",
      "                                op=USub(),\n",
      "                                operand=Constant(value=1))),\n",
      "                        ctx=Load())]),\n",
      "            body=[\n",
      "                Expr(\n",
      "                    value=Call(\n",
      "                        func=Name(id='print', ctx=Load()),\n",
      "                        args=[\n",
      "                            Name(id='word', ctx=Load()),\n",
      "                            Constant(value='is a palindrome')]))],\n",
      "            orelse=[\n",
      "                Expr(\n",
      "                    value=Call(\n",
      "           \n",
      "\n",
      "=== AST for Snippet 7 ===\n",
      "Module(\n",
      "    body=[\n",
      "        FunctionDef(\n",
      "            name='count_consonants',\n",
      "            args=arguments(\n",
      "                args=[\n",
      "                    arg(arg='s')]),\n",
      "            body=[\n",
      "                Assign(\n",
      "                    targets=[\n",
      "                        Name(id='vowels', ctx=Store())],\n",
      "                    value=Constant(value='aeiouAEIOU')),\n",
      "                Return(\n",
      "                    value=Call(\n",
      "                        func=Name(id='sum', ctx=Load()),\n",
      "                        args=[\n",
      "                            GeneratorExp(\n",
      "                                elt=Constant(value=1),\n",
      "                                generators=[\n",
      "                                    comprehension(\n",
      "                                        target=Name(id='ch', ctx=Store()),\n",
      "                                        iter=Name(id='s', ctx=Load()),\n",
      "                                        ifs=[\n",
      "                                            BoolOp(\n",
      "                                                op=And(),\n",
      "          \n",
      "\n",
      "=== AST for Snippet 8 ===\n",
      "Module(\n",
      "    body=[\n",
      "        Assign(\n",
      "            targets=[\n",
      "                Name(id='numbers', ctx=Store())],\n",
      "            value=List(\n",
      "                elts=[\n",
      "                    Constant(value=4),\n",
      "                    Constant(value=8),\n",
      "                    Constant(value=15),\n",
      "                    Constant(value=16),\n",
      "                    Constant(value=23),\n",
      "                    Constant(value=42)],\n",
      "                ctx=Load())),\n",
      "        Assign(\n",
      "            targets=[\n",
      "                Name(id='average', ctx=Store())],\n",
      "            value=BinOp(\n",
      "                left=Call(\n",
      "                    func=Name(id='sum', ctx=Load()),\n",
      "                    args=[\n",
      "                        Name(id='numbers', ctx=Load())]),\n",
      "                op=Div(),\n",
      "                right=Call(\n",
      "                    func=Name(id='len', ctx=Load()),\n",
      "                    args=[\n",
      "                        Name(id='numbers', ctx=Load())]))),\n",
      "        Expr(\n",
      "            value=Call(\n",
      "                func=Name(id='print', ctx=Load()),\n",
      "                \n",
      "\n",
      "=== AST for Snippet 9 ===\n",
      "Module(\n",
      "    body=[\n",
      "        Assign(\n",
      "            targets=[\n",
      "                Name(id='data', ctx=Store())],\n",
      "            value=List(\n",
      "                elts=[\n",
      "                    Constant(value=55),\n",
      "                    Constant(value=12),\n",
      "                    Constant(value=87),\n",
      "                    Constant(value=34),\n",
      "                    Constant(value=6)],\n",
      "                ctx=Load())),\n",
      "        Expr(\n",
      "            value=Call(\n",
      "                func=Name(id='print', ctx=Load()),\n",
      "                args=[\n",
      "                    Constant(value='Smallest number is:'),\n",
      "                    Call(\n",
      "                        func=Name(id='min', ctx=Load()),\n",
      "                        args=[\n",
      "                            Name(id='data', ctx=Load())])]))])\n",
      "\n",
      "=== AST for Snippet 10 ===\n",
      "Module(\n",
      "    body=[\n",
      "        Assign(\n",
      "            targets=[\n",
      "                Name(id='num', ctx=Store())],\n",
      "            value=Constant(value=15)),\n",
      "        If(\n",
      "            test=BoolOp(\n",
      "                op=And(),\n",
      "                values=[\n",
      "                    Compare(\n",
      "                        left=BinOp(\n",
      "                            left=Name(id='num', ctx=Load()),\n",
      "                            op=Mod(),\n",
      "                            right=Constant(value=3)),\n",
      "                        ops=[\n",
      "                            Eq()],\n",
      "                        comparators=[\n",
      "                            Constant(value=0)]),\n",
      "                    Compare(\n",
      "                        left=BinOp(\n",
      "                            left=Name(id='num', ctx=Load()),\n",
      "                            op=Mod(),\n",
      "                            right=Constant(value=5)),\n",
      "                        ops=[\n",
      "                            Eq()],\n",
      "                        comparators=[\n",
      "                            Constant(value=0)])]),\n",
      "            body=[\n",
      "         \n"
     ]
    }
   ],
   "source": [
    "import ast\n",
    "\n",
    "def parse_ast(snippet, idx):\n",
    "    \"\"\"Parse code snippet into AST and pretty-print\"\"\"\n",
    "    try:\n",
    "        tree = ast.parse(snippet)\n",
    "        print(f\"\\n=== AST for Snippet {idx} ===\")\n",
    "        print(ast.dump(tree, indent=4)[:1000])  # preview first 1000 chars\n",
    "    except Exception as e:\n",
    "        print(f\" Error parsing Snippet {idx}: {e}\")\n",
    "\n",
    "# Run AST parsing for all snippets\n",
    "for idx, snippet in enumerate(code_snippets, 1):\n",
    "    parse_ast(snippet, idx)\n"
   ]
  },
  {
   "cell_type": "markdown",
   "id": "33d5dddb-2cf2-4e97-bf76-d3e9ad979511",
   "metadata": {},
   "source": [
    "# Section 4: Extract Functions"
   ]
  },
  {
   "cell_type": "code",
   "execution_count": 19,
   "id": "1cfd4cf9-4ee7-469d-bcb9-96c092829673",
   "metadata": {},
   "outputs": [
    {
     "name": "stdout",
     "output_type": "stream",
     "text": [
      "{'Snippet_1': [], 'Snippet_2': [], 'Snippet_3': [], 'Snippet_4': [], 'Snippet_5': [], 'Snippet_6': [], 'Snippet_7': [{'name': 'count_consonants', 'args': ['s'], 'docstring': None, 'has_return': True}], 'Snippet_8': [], 'Snippet_9': [], 'Snippet_10': []}\n"
     ]
    }
   ],
   "source": [
    "results = {}\n",
    "for i, snippet in enumerate(code_snippets, start=1):\n",
    "    tree = ast.parse(snippet)\n",
    "    functions = []\n",
    "    for node in ast.walk(tree):\n",
    "        if isinstance(node, ast.FunctionDef):\n",
    "            functions.append({\n",
    "                'name': node.name,\n",
    "                'args': [arg.arg for arg in node.args.args],\n",
    "                'docstring': ast.get_docstring(node),\n",
    "                'has_return': any(isinstance(n, ast.Return) for n in ast.walk(node))\n",
    "            })\n",
    "    results[f\"Snippet_{i}\"] = functions\n",
    "\n",
    "print(results)\n",
    "\n"
   ]
  },
  {
   "cell_type": "markdown",
   "id": "0a819b2e-d415-4871-8b2c-0198f1e0b8d9",
   "metadata": {},
   "source": [
    "# Section 5: Extract Classes"
   ]
  },
  {
   "cell_type": "code",
   "execution_count": 20,
   "id": "746b4606-aa1b-462b-8021-f9eac7462162",
   "metadata": {},
   "outputs": [
    {
     "name": "stdout",
     "output_type": "stream",
     "text": [
      "{'Snippet_1': [], 'Snippet_2': [], 'Snippet_3': [], 'Snippet_4': [], 'Snippet_5': [], 'Snippet_6': [], 'Snippet_7': [], 'Snippet_8': [], 'Snippet_9': [], 'Snippet_10': []}\n"
     ]
    }
   ],
   "source": [
    "class_results = {}\n",
    "for i, snippet in enumerate(code_snippets, start=1):\n",
    "    tree = ast.parse(snippet)\n",
    "    classes = []\n",
    "    for node in ast.walk(tree):\n",
    "        if isinstance(node, ast.ClassDef):\n",
    "            classes.append({\n",
    "                'name': node.name,\n",
    "                'methods': [n.name for n in node.body if isinstance(n, ast.FunctionDef)],\n",
    "                'docstring': ast.get_docstring(node)\n",
    "            })\n",
    "    class_results[f\"Snippet_{i}\"] = classes\n",
    "\n",
    "print(class_results)\n"
   ]
  },
  {
   "cell_type": "markdown",
   "id": "635e4200-55b6-48b7-bf8e-6c0e8605b80b",
   "metadata": {},
   "source": [
    "# Section 6: Extract Imports"
   ]
  },
  {
   "cell_type": "code",
   "execution_count": 21,
   "id": "ca999d90-0d69-46cc-9449-e69072ade107",
   "metadata": {},
   "outputs": [
    {
     "name": "stdout",
     "output_type": "stream",
     "text": [
      "{'Snippet_1': [], 'Snippet_2': [], 'Snippet_3': [], 'Snippet_4': [], 'Snippet_5': [], 'Snippet_6': [], 'Snippet_7': [], 'Snippet_8': [], 'Snippet_9': [], 'Snippet_10': []}\n"
     ]
    }
   ],
   "source": [
    "import_results = {}\n",
    "for i, snippet in enumerate(code_snippets, start=1):\n",
    "    tree = ast.parse(snippet)\n",
    "    imports = []\n",
    "    for node in ast.walk(tree):\n",
    "        if isinstance(node, ast.Import):\n",
    "            for alias in node.names:\n",
    "                imports.append({'module': alias.name, 'type': 'import'})\n",
    "        elif isinstance(node, ast.ImportFrom):\n",
    "            for alias in node.names:\n",
    "                imports.append({'module': alias.name, 'from': node.module, 'type': 'from_import'})\n",
    "    import_results[f\"Snippet_{i}\"] = imports\n",
    "\n",
    "print(import_results)\n"
   ]
  },
  {
   "cell_type": "markdown",
   "id": "e5b41f7e-4bb5-43ec-b9a4-f450c3e7dab5",
   "metadata": {},
   "source": [
    "# Section 7: Tokenize Code"
   ]
  },
  {
   "cell_type": "code",
   "execution_count": 23,
   "id": "21aa1831-68e8-4c70-bb08-15356e85b4e7",
   "metadata": {},
   "outputs": [
    {
     "name": "stdout",
     "output_type": "stream",
     "text": [
      "\n",
      "--- Snippet_1 ---\n",
      "['a', ',', 'b', ',', 'c', '=', '2', ',', '4', ',', '6', 'total', '=', 'a', '+', 'b', '+', 'c', 'print', '(']\n",
      "\n",
      "--- Snippet_2 ---\n",
      "['n', '=', '5', 'fact', '=', '1', 'for', 'i', 'in', 'range', '(', '1', ',', 'n', '+', '1', ')', ':', 'fact', '*=']\n",
      "\n",
      "--- Snippet_3 ---\n",
      "['num', '=', '13', 'prime', '=', 'True', 'if', 'num', '<=', '1', ':', 'prime', '=', 'False', 'else', ':', 'for', 'i', 'in', 'range']\n",
      "\n",
      "--- Snippet_4 ---\n",
      "['length', '=', '8', 'width', '=', '3', 'area', '=', 'length', '*', 'width', 'print', '(', '\"Area of rectangle:\"', ',', 'area', ')', '']\n",
      "\n",
      "--- Snippet_5 ---\n",
      "['n', '=', '7', 'a', ',', 'b', '=', '0', ',', '1', 'for', 'i', 'in', 'range', '(', 'n', '-', '1', ')', ':']\n",
      "\n",
      "--- Snippet_6 ---\n",
      "['word', '=', '\"level\"', 'if', 'word', '==', 'word', '[', ':', ':', '-', '1', ']', ':', 'print', '(', 'word', ',', '\"is a palindrome\"', ')']\n",
      "\n",
      "--- Snippet_7 ---\n",
      "['def', 'count_consonants', '(', 's', ')', ':', 'vowels', '=', '\"aeiouAEIOU\"', 'return', 'sum', '(', '1', 'for', 'ch', 'in', 's', 'if', 'ch', '.']\n",
      "\n",
      "--- Snippet_8 ---\n",
      "['numbers', '=', '[', '4', ',', '8', ',', '15', ',', '16', ',', '23', ',', '42', ']', 'average', '=', 'sum', '(', 'numbers']\n",
      "\n",
      "--- Snippet_9 ---\n",
      "['data', '=', '[', '55', ',', '12', ',', '87', ',', '34', ',', '6', ']', 'print', '(', '\"Smallest number is:\"', ',', 'min', '(', 'data']\n",
      "\n",
      "--- Snippet_10 ---\n",
      "['num', '=', '15', 'if', 'num', '%', '3', '==', '0', 'and', 'num', '%', '5', '==', '0', ':', 'print', '(', 'num', ',']\n"
     ]
    }
   ],
   "source": [
    "import io\n",
    "import tokenize\n",
    "\n",
    "token_results = {}\n",
    "\n",
    "for i, snippet in enumerate(code_snippets, start=1):\n",
    "    tokens = []\n",
    "    gen = tokenize.generate_tokens(io.StringIO(snippet).readline)\n",
    "    for tok in gen:\n",
    "        if tok.type not in {\n",
    "            tokenize.COMMENT,\n",
    "            tokenize.NL,\n",
    "            tokenize.NEWLINE,\n",
    "            tokenize.INDENT,\n",
    "            tokenize.DEDENT\n",
    "        }:\n",
    "            tokens.append(tok.string)\n",
    "    token_results[f\"Snippet_{i}\"] = tokens[:20]  # preview first 20 tokens\n",
    "\n",
    "# Show results\n",
    "for k, v in token_results.items():\n",
    "    print(f\"\\n--- {k} ---\")\n",
    "    print(v)\n"
   ]
  },
  {
   "cell_type": "markdown",
   "id": "5300cd8d-e943-4a11-b661-60bffafc137e",
   "metadata": {},
   "source": [
    "# Section 8: Token Patterns"
   ]
  },
  {
   "cell_type": "code",
   "execution_count": 24,
   "id": "a6b7d17d-00f9-4d20-acee-b45d3ad8963f",
   "metadata": {},
   "outputs": [
    {
     "name": "stdout",
     "output_type": "stream",
     "text": [
      "{\n",
      "    \"Snippet_1\": {\n",
      "        \"total_tokens\": 25,\n",
      "        \"keywords\": {},\n",
      "        \"operators\": {\n",
      "            \"=\": 2,\n",
      "            \"+\": 2\n",
      "        }\n",
      "    },\n",
      "    \"Snippet_2\": {\n",
      "        \"total_tokens\": 32,\n",
      "        \"keywords\": {\n",
      "            \"for\": 1,\n",
      "            \"in\": 1\n",
      "        },\n",
      "        \"operators\": {\n",
      "            \"=\": 2,\n",
      "            \"+\": 1\n",
      "        }\n",
      "    },\n",
      "    \"Snippet_3\": {\n",
      "        \"total_tokens\": 53,\n",
      "        \"keywords\": {\n",
      "            \"True\": 1,\n",
      "            \"if\": 2,\n",
      "            \"False\": 2,\n",
      "            \"else\": 1,\n",
      "            \"for\": 1,\n",
      "            \"in\": 1,\n",
      "            \"break\": 1\n",
      "        },\n",
      "        \"operators\": {\n",
      "            \"=\": 4,\n",
      "            \"<=\": 1,\n",
      "            \"/\": 1,\n",
      "            \"+\": 1,\n",
      "            \"%\": 1,\n",
      "            \"==\": 1\n",
      "        }\n",
      "    },\n",
      "    \"Snippet_4\": {\n",
      "        \"total_tokens\": 18,\n",
      "        \"keywords\": {},\n",
      "        \"operators\": {\n",
      "            \"=\": 3,\n",
      "            \"*\": 1\n",
      "        }\n",
      "    },\n",
      "    \"Snippet_5\": {\n",
      "        \"total_tokens\": 38,\n",
      "        \"keywords\": {\n",
      "            \"for\": 1,\n",
      "            \"in\": 1\n",
      "        },\n",
      "        \"operators\": {\n",
      "            \"=\": 3,\n",
      "            \"-\": 1,\n",
      "            \"+\": 1\n",
      "        }\n",
      "    },\n",
      "    \"Snippet_6\": {\n",
      "        \"total_tokens\": 29,\n",
      "        \"keywords\": {\n",
      "            \"if\": 1,\n",
      "            \"else\": 1\n",
      "        },\n",
      "        \"operators\": {\n",
      "            \"=\": 1,\n",
      "            \"==\": 1,\n",
      "            \"-\": 1\n",
      "        }\n",
      "    },\n",
      "    \"Snippet_7\": {\n",
      "        \"total_tokens\": 42,\n",
      "        \"keywords\": {\n",
      "            \"def\": 1,\n",
      "            \"return\": 1,\n",
      "            \"for\": 1,\n",
      "            \"in\": 2,\n",
      "            \"if\": 1,\n",
      "            \"and\": 1,\n",
      "            \"not\": 1\n",
      "        },\n",
      "        \"operators\": {\n",
      "            \"=\": 2\n",
      "        }\n",
      "    },\n",
      "    \"Snippet_8\": {\n",
      "        \"total_tokens\": 33,\n",
      "        \"keywords\": {},\n",
      "        \"operators\": {\n",
      "            \"=\": 2,\n",
      "            \"/\": 1\n",
      "        }\n",
      "    },\n",
      "    \"Snippet_9\": {\n",
      "        \"total_tokens\": 23,\n",
      "        \"keywords\": {},\n",
      "        \"operators\": {\n",
      "            \"=\": 1\n",
      "        }\n",
      "    },\n",
      "    \"Snippet_10\": {\n",
      "        \"total_tokens\": 31,\n",
      "        \"keywords\": {\n",
      "            \"if\": 1,\n",
      "            \"and\": 1,\n",
      "            \"else\": 1\n",
      "        },\n",
      "        \"operators\": {\n",
      "            \"=\": 1,\n",
      "            \"%\": 2,\n",
      "            \"==\": 2\n",
      "        }\n",
      "    }\n",
      "}\n"
     ]
    }
   ],
   "source": [
    "import io\n",
    "import tokenize\n",
    "import keyword\n",
    "from collections import Counter\n",
    "\n",
    "def extract_token_patterns(snippet: str):\n",
    "    tokens = []\n",
    "    gen = tokenize.generate_tokens(io.StringIO(snippet).readline)\n",
    "    for tok in gen:\n",
    "        if tok.type not in {\n",
    "            tokenize.COMMENT,\n",
    "            tokenize.NL,\n",
    "            tokenize.NEWLINE,\n",
    "            tokenize.INDENT,\n",
    "            tokenize.DEDENT\n",
    "        }:\n",
    "            tokens.append(tok.string)\n",
    "\n",
    "    # Keywords\n",
    "    keywords_used = [t for t in tokens if t in keyword.kwlist]\n",
    "\n",
    "    # Operators\n",
    "    operators_list = ['+', '-', '*', '/', '=', '==', '!=', '<', '>', '<=', '>=', '%', '**']\n",
    "    operators_used = [t for t in tokens if t in operators_list]\n",
    "\n",
    "    return {\n",
    "        \"total_tokens\": len(tokens),\n",
    "        \"keywords\": dict(Counter(keywords_used)),\n",
    "        \"operators\": dict(Counter(operators_used))\n",
    "    }\n",
    "\n",
    "# Run on all snippets\n",
    "token_patterns = {}\n",
    "for i, snippet in enumerate(code_snippets, start=1):\n",
    "    token_patterns[f\"Snippet_{i}\"] = extract_token_patterns(snippet)\n",
    "\n",
    "# Display results\n",
    "import json\n",
    "print(json.dumps(token_patterns, indent=4))\n"
   ]
  },
  {
   "cell_type": "markdown",
   "id": "d8b49d4d-c107-4212-a4aa-754f9c78d7ea",
   "metadata": {},
   "source": [
    "# Section 9: Multi-Model Code Explainer Module\n",
    "Use three pretrained SentenceTransformer models to generate context-aware explanations. Compare explanations across models."
   ]
  },
  {
   "cell_type": "code",
   "execution_count": 25,
   "id": "667a85a1-e434-48cf-9f00-4ee6de18cc06",
   "metadata": {},
   "outputs": [
    {
     "data": {
      "application/vnd.jupyter.widget-view+json": {
       "model_id": "f5643d6d42f840f5aa17922675439b8c",
       "version_major": 2,
       "version_minor": 0
      },
      "text/plain": [
       "modules.json:   0%|          | 0.00/349 [00:00<?, ?B/s]"
      ]
     },
     "metadata": {},
     "output_type": "display_data"
    },
    {
     "data": {
      "application/vnd.jupyter.widget-view+json": {
       "model_id": "6ece473a3b184af5a7291087ae0ad84c",
       "version_major": 2,
       "version_minor": 0
      },
      "text/plain": [
       "config_sentence_transformers.json:   0%|          | 0.00/116 [00:00<?, ?B/s]"
      ]
     },
     "metadata": {},
     "output_type": "display_data"
    },
    {
     "data": {
      "application/vnd.jupyter.widget-view+json": {
       "model_id": "c15e205706194396b2d6085958b7f400",
       "version_major": 2,
       "version_minor": 0
      },
      "text/plain": [
       "README.md: 0.00B [00:00, ?B/s]"
      ]
     },
     "metadata": {},
     "output_type": "display_data"
    },
    {
     "data": {
      "application/vnd.jupyter.widget-view+json": {
       "model_id": "099eab4d1d1f418ab518976c72db4de0",
       "version_major": 2,
       "version_minor": 0
      },
      "text/plain": [
       "sentence_bert_config.json:   0%|          | 0.00/53.0 [00:00<?, ?B/s]"
      ]
     },
     "metadata": {},
     "output_type": "display_data"
    },
    {
     "data": {
      "application/vnd.jupyter.widget-view+json": {
       "model_id": "08fad60f2a27414aae97a7ec4d3cd118",
       "version_major": 2,
       "version_minor": 0
      },
      "text/plain": [
       "config.json:   0%|          | 0.00/615 [00:00<?, ?B/s]"
      ]
     },
     "metadata": {},
     "output_type": "display_data"
    },
    {
     "name": "stderr",
     "output_type": "stream",
     "text": [
      "Xet Storage is enabled for this repo, but the 'hf_xet' package is not installed. Falling back to regular HTTP download. For better performance, install the package with: `pip install huggingface_hub[hf_xet]` or `pip install hf_xet`\n"
     ]
    },
    {
     "data": {
      "application/vnd.jupyter.widget-view+json": {
       "model_id": "6eea04757cc74be8b29946790bc7eb51",
       "version_major": 2,
       "version_minor": 0
      },
      "text/plain": [
       "model.safetensors:   0%|          | 0.00/133M [00:00<?, ?B/s]"
      ]
     },
     "metadata": {},
     "output_type": "display_data"
    },
    {
     "data": {
      "application/vnd.jupyter.widget-view+json": {
       "model_id": "c8607ad9fe724709a69ae37b41c66260",
       "version_major": 2,
       "version_minor": 0
      },
      "text/plain": [
       "tokenizer_config.json:   0%|          | 0.00/352 [00:00<?, ?B/s]"
      ]
     },
     "metadata": {},
     "output_type": "display_data"
    },
    {
     "data": {
      "application/vnd.jupyter.widget-view+json": {
       "model_id": "0d955b65ac254fdd839582ccf0855dd8",
       "version_major": 2,
       "version_minor": 0
      },
      "text/plain": [
       "vocab.txt: 0.00B [00:00, ?B/s]"
      ]
     },
     "metadata": {},
     "output_type": "display_data"
    },
    {
     "data": {
      "application/vnd.jupyter.widget-view+json": {
       "model_id": "1e5cecc6cab0479992a66d3843fdfaa6",
       "version_major": 2,
       "version_minor": 0
      },
      "text/plain": [
       "tokenizer.json: 0.00B [00:00, ?B/s]"
      ]
     },
     "metadata": {},
     "output_type": "display_data"
    },
    {
     "data": {
      "application/vnd.jupyter.widget-view+json": {
       "model_id": "2b860b53c21249f6b4890e3c5128a9f1",
       "version_major": 2,
       "version_minor": 0
      },
      "text/plain": [
       "special_tokens_map.json:   0%|          | 0.00/112 [00:00<?, ?B/s]"
      ]
     },
     "metadata": {},
     "output_type": "display_data"
    },
    {
     "data": {
      "application/vnd.jupyter.widget-view+json": {
       "model_id": "db0f9a3cf9804a43acbbaf3c2c50d315",
       "version_major": 2,
       "version_minor": 0
      },
      "text/plain": [
       "config.json:   0%|          | 0.00/190 [00:00<?, ?B/s]"
      ]
     },
     "metadata": {},
     "output_type": "display_data"
    },
    {
     "data": {
      "application/vnd.jupyter.widget-view+json": {
       "model_id": "8aa6766b8f11400ea8c50162de6d235d",
       "version_major": 2,
       "version_minor": 0
      },
      "text/plain": [
       "modules.json:   0%|          | 0.00/349 [00:00<?, ?B/s]"
      ]
     },
     "metadata": {},
     "output_type": "display_data"
    },
    {
     "data": {
      "application/vnd.jupyter.widget-view+json": {
       "model_id": "09b840a362324bbfae9271c308df9698",
       "version_major": 2,
       "version_minor": 0
      },
      "text/plain": [
       "config_sentence_transformers.json:   0%|          | 0.00/116 [00:00<?, ?B/s]"
      ]
     },
     "metadata": {},
     "output_type": "display_data"
    },
    {
     "data": {
      "application/vnd.jupyter.widget-view+json": {
       "model_id": "3655fb9a0627409f93d90d28260e2be5",
       "version_major": 2,
       "version_minor": 0
      },
      "text/plain": [
       "README.md: 0.00B [00:00, ?B/s]"
      ]
     },
     "metadata": {},
     "output_type": "display_data"
    },
    {
     "data": {
      "application/vnd.jupyter.widget-view+json": {
       "model_id": "4d7b70ca927b4fb483b81138ba3690f4",
       "version_major": 2,
       "version_minor": 0
      },
      "text/plain": [
       "sentence_bert_config.json:   0%|          | 0.00/53.0 [00:00<?, ?B/s]"
      ]
     },
     "metadata": {},
     "output_type": "display_data"
    },
    {
     "data": {
      "application/vnd.jupyter.widget-view+json": {
       "model_id": "02cee0bd4a80470b81f5fa85bc7bc6c8",
       "version_major": 2,
       "version_minor": 0
      },
      "text/plain": [
       "config.json:   0%|          | 0.00/653 [00:00<?, ?B/s]"
      ]
     },
     "metadata": {},
     "output_type": "display_data"
    },
    {
     "name": "stderr",
     "output_type": "stream",
     "text": [
      "Xet Storage is enabled for this repo, but the 'hf_xet' package is not installed. Falling back to regular HTTP download. For better performance, install the package with: `pip install huggingface_hub[hf_xet]` or `pip install hf_xet`\n"
     ]
    },
    {
     "data": {
      "application/vnd.jupyter.widget-view+json": {
       "model_id": "f5eaaa3221614668ad6dcdfb774d9193",
       "version_major": 2,
       "version_minor": 0
      },
      "text/plain": [
       "model.safetensors:   0%|          | 0.00/328M [00:00<?, ?B/s]"
      ]
     },
     "metadata": {},
     "output_type": "display_data"
    },
    {
     "data": {
      "application/vnd.jupyter.widget-view+json": {
       "model_id": "b78b73e4048446a4a4a91cf3984a4bda",
       "version_major": 2,
       "version_minor": 0
      },
      "text/plain": [
       "tokenizer_config.json:   0%|          | 0.00/333 [00:00<?, ?B/s]"
      ]
     },
     "metadata": {},
     "output_type": "display_data"
    },
    {
     "data": {
      "application/vnd.jupyter.widget-view+json": {
       "model_id": "411fc89b4dc04b9d828f36bc640eb8d3",
       "version_major": 2,
       "version_minor": 0
      },
      "text/plain": [
       "vocab.json: 0.00B [00:00, ?B/s]"
      ]
     },
     "metadata": {},
     "output_type": "display_data"
    },
    {
     "data": {
      "application/vnd.jupyter.widget-view+json": {
       "model_id": "035869cba4dd41e89cd804334adde94d",
       "version_major": 2,
       "version_minor": 0
      },
      "text/plain": [
       "merges.txt: 0.00B [00:00, ?B/s]"
      ]
     },
     "metadata": {},
     "output_type": "display_data"
    },
    {
     "data": {
      "application/vnd.jupyter.widget-view+json": {
       "model_id": "0aba9d660e2d4aefa04a7cc4848c6856",
       "version_major": 2,
       "version_minor": 0
      },
      "text/plain": [
       "tokenizer.json: 0.00B [00:00, ?B/s]"
      ]
     },
     "metadata": {},
     "output_type": "display_data"
    },
    {
     "data": {
      "application/vnd.jupyter.widget-view+json": {
       "model_id": "fd0376213040496f93a1ae89fdf5792a",
       "version_major": 2,
       "version_minor": 0
      },
      "text/plain": [
       "special_tokens_map.json:   0%|          | 0.00/239 [00:00<?, ?B/s]"
      ]
     },
     "metadata": {},
     "output_type": "display_data"
    },
    {
     "data": {
      "application/vnd.jupyter.widget-view+json": {
       "model_id": "7c76384183dc451ea034668560c21a1a",
       "version_major": 2,
       "version_minor": 0
      },
      "text/plain": [
       "config.json:   0%|          | 0.00/190 [00:00<?, ?B/s]"
      ]
     },
     "metadata": {},
     "output_type": "display_data"
    },
    {
     "data": {
      "application/vnd.jupyter.widget-view+json": {
       "model_id": "87e23861bcc3410c8ad869357965ca2e",
       "version_major": 2,
       "version_minor": 0
      },
      "text/plain": [
       "modules.json:   0%|          | 0.00/349 [00:00<?, ?B/s]"
      ]
     },
     "metadata": {},
     "output_type": "display_data"
    },
    {
     "data": {
      "application/vnd.jupyter.widget-view+json": {
       "model_id": "8f70e574b8014458956dcedf8661ab8b",
       "version_major": 2,
       "version_minor": 0
      },
      "text/plain": [
       "config_sentence_transformers.json:   0%|          | 0.00/116 [00:00<?, ?B/s]"
      ]
     },
     "metadata": {},
     "output_type": "display_data"
    },
    {
     "data": {
      "application/vnd.jupyter.widget-view+json": {
       "model_id": "c2dd4c4bbdbd4fe3ae92055f360e9026",
       "version_major": 2,
       "version_minor": 0
      },
      "text/plain": [
       "README.md: 0.00B [00:00, ?B/s]"
      ]
     },
     "metadata": {},
     "output_type": "display_data"
    },
    {
     "data": {
      "application/vnd.jupyter.widget-view+json": {
       "model_id": "b3ba7cb18ad841f5ba65e9b3dd0c8293",
       "version_major": 2,
       "version_minor": 0
      },
      "text/plain": [
       "sentence_bert_config.json:   0%|          | 0.00/53.0 [00:00<?, ?B/s]"
      ]
     },
     "metadata": {},
     "output_type": "display_data"
    },
    {
     "data": {
      "application/vnd.jupyter.widget-view+json": {
       "model_id": "5b1ad5a2dd64455ab177555657bdcd49",
       "version_major": 2,
       "version_minor": 0
      },
      "text/plain": [
       "config.json:   0%|          | 0.00/571 [00:00<?, ?B/s]"
      ]
     },
     "metadata": {},
     "output_type": "display_data"
    },
    {
     "name": "stderr",
     "output_type": "stream",
     "text": [
      "Xet Storage is enabled for this repo, but the 'hf_xet' package is not installed. Falling back to regular HTTP download. For better performance, install the package with: `pip install huggingface_hub[hf_xet]` or `pip install hf_xet`\n"
     ]
    },
    {
     "data": {
      "application/vnd.jupyter.widget-view+json": {
       "model_id": "33906bf9225d41f5b095f77ed9f29aab",
       "version_major": 2,
       "version_minor": 0
      },
      "text/plain": [
       "model.safetensors:   0%|          | 0.00/438M [00:00<?, ?B/s]"
      ]
     },
     "metadata": {},
     "output_type": "display_data"
    },
    {
     "data": {
      "application/vnd.jupyter.widget-view+json": {
       "model_id": "af82aa2201f74407abad9ee81721126e",
       "version_major": 2,
       "version_minor": 0
      },
      "text/plain": [
       "tokenizer_config.json:   0%|          | 0.00/363 [00:00<?, ?B/s]"
      ]
     },
     "metadata": {},
     "output_type": "display_data"
    },
    {
     "data": {
      "application/vnd.jupyter.widget-view+json": {
       "model_id": "26291eba2f2a41c98bc529b4b4f15edb",
       "version_major": 2,
       "version_minor": 0
      },
      "text/plain": [
       "vocab.txt: 0.00B [00:00, ?B/s]"
      ]
     },
     "metadata": {},
     "output_type": "display_data"
    },
    {
     "data": {
      "application/vnd.jupyter.widget-view+json": {
       "model_id": "da74397cdec342528106b39a1fe60269",
       "version_major": 2,
       "version_minor": 0
      },
      "text/plain": [
       "tokenizer.json: 0.00B [00:00, ?B/s]"
      ]
     },
     "metadata": {},
     "output_type": "display_data"
    },
    {
     "data": {
      "application/vnd.jupyter.widget-view+json": {
       "model_id": "3cd09061edaa48f4aa89b2ec7b56b9b0",
       "version_major": 2,
       "version_minor": 0
      },
      "text/plain": [
       "special_tokens_map.json:   0%|          | 0.00/239 [00:00<?, ?B/s]"
      ]
     },
     "metadata": {},
     "output_type": "display_data"
    },
    {
     "data": {
      "application/vnd.jupyter.widget-view+json": {
       "model_id": "71058e363e8548218fc3457c57549ab2",
       "version_major": 2,
       "version_minor": 0
      },
      "text/plain": [
       "config.json:   0%|          | 0.00/190 [00:00<?, ?B/s]"
      ]
     },
     "metadata": {},
     "output_type": "display_data"
    },
    {
     "name": "stdout",
     "output_type": "stream",
     "text": [
      "\n",
      "Explanation Comparison for Program_1:\n",
      " Line Number                          Code                                   MiniLM                                        DistilRoBERTa                                          MPNet\n",
      "           2             a, b, c = 2, 4, 6               Assigns value to 'a, b, c'                   Sets variable 'a, b, c' to a value                     Stores result in 'a, b, c'\n",
      "           3             total = a + b + c                 Assigns value to 'total'                     Sets variable 'total' to a value                       Stores result in 'total'\n",
      "           4 print(\"The total is:\", total) Outputs: 'print(\"The total is:\", total)' Displays to console: 'print(\"The total is:\", total)' Prints result: 'print(\"The total is:\", total)'\n",
      "\n",
      "Summary of Explanation Differences:\n",
      "\n",
      "Program_1:\n",
      "Lines with differing explanations:\n",
      " Line Number                          Code                                   MiniLM                                        DistilRoBERTa                                          MPNet\n",
      "           2             a, b, c = 2, 4, 6               Assigns value to 'a, b, c'                   Sets variable 'a, b, c' to a value                     Stores result in 'a, b, c'\n",
      "           3             total = a + b + c                 Assigns value to 'total'                     Sets variable 'total' to a value                       Stores result in 'total'\n",
      "           4 print(\"The total is:\", total) Outputs: 'print(\"The total is:\", total)' Displays to console: 'print(\"The total is:\", total)' Prints result: 'print(\"The total is:\", total)'\n",
      "\n",
      "Program_2:\n",
      "Lines with differing explanations:\n",
      " Line Number                                 Code                                          MiniLM                                               DistilRoBERTa                                                 MPNet\n",
      "           2                                n = 5                            Assigns value to 'n'                                Sets variable 'n' to a value                                  Stores result in 'n'\n",
      "           3                             fact = 1                         Assigns value to 'fact'                             Sets variable 'fact' to a value                               Stores result in 'fact'\n",
      "           4              for i in range(1, n+1):  Loops over sequence: 'for i in range(1, n+1):'                 Iterates through: 'for i in range(1, n+1):'         Performs iteration: 'for i in range(1, n+1):'\n",
      "           5                            fact *= i                       Assigns value to 'fact *'                           Sets variable 'fact *' to a value                             Stores result in 'fact *'\n",
      "           6 print(\"Factorial of\", n, \"is\", fact) Outputs: 'print(\"Factorial of\", n, \"is\", fact)' Displays to console: 'print(\"Factorial of\", n, \"is\", fact)' Prints result: 'print(\"Factorial of\", n, \"is\", fact)'\n",
      "\n",
      "Program_3:\n",
      "Lines with differing explanations:\n",
      " Line Number                             Code                                                  MiniLM                                         DistilRoBERTa                                                  MPNet\n",
      "           2                         num = 13                                  Assigns value to 'num'                        Sets variable 'num' to a value                                 Stores result in 'num'\n",
      "           3                     prime = True                                Assigns value to 'prime'                      Sets variable 'prime' to a value                               Stores result in 'prime'\n",
      "           4                     if num <= 1:                     Evaluates condition: 'if num <= 1:'                             Checks if: 'if num <= 1:'                        Tests condition: 'if num <= 1:'\n",
      "           5                    prime = False                                Assigns value to 'prime'                      Sets variable 'prime' to a value                               Stores result in 'prime'\n",
      "           6                            else:           Handles alternative case when conditions fail                Executes if prior conditions are false                                Catches remaining cases\n",
      "           7 for i in range(2, int(num/2)+1): Loops over sequence: 'for i in range(2, int(num/2)+1):'  Iterates through: 'for i in range(2, int(num/2)+1):' Performs iteration: 'for i in range(2, int(num/2)+1):'\n",
      "           8                 if num % i == 0:                 Evaluates condition: 'if num % i == 0:'                         Checks if: 'if num % i == 0:'                    Tests condition: 'if num % i == 0:'\n",
      "           9                    prime = False                                Assigns value to 'prime'                      Sets variable 'prime' to a value                               Stores result in 'prime'\n",
      "          10                            break                                       Executes: 'break'                           Performs operation: 'break'                                     Runs code: 'break'\n",
      "          11   print(num, \"is prime?\", prime)               Outputs: 'print(num, \"is prime?\", prime)' Displays to console: 'print(num, \"is prime?\", prime)'        Prints result: 'print(num, \"is prime?\", prime)'\n",
      "\n",
      "Program_4:\n",
      "Lines with differing explanations:\n",
      " Line Number                              Code                                       MiniLM                                            DistilRoBERTa                                              MPNet\n",
      "           2                        length = 8                    Assigns value to 'length'                        Sets variable 'length' to a value                          Stores result in 'length'\n",
      "           3                         width = 3                     Assigns value to 'width'                         Sets variable 'width' to a value                           Stores result in 'width'\n",
      "           4             area = length * width                      Assigns value to 'area'                          Sets variable 'area' to a value                            Stores result in 'area'\n",
      "           5 print(\"Area of rectangle:\", area) Outputs: 'print(\"Area of rectangle:\", area)' Displays to console: 'print(\"Area of rectangle:\", area)' Prints result: 'print(\"Area of rectangle:\", area)'\n",
      "\n",
      "Program_5:\n",
      "Lines with differing explanations:\n",
      " Line Number                                   Code                                            MiniLM                                                 DistilRoBERTa                                                   MPNet\n",
      "           2                                  n = 7                              Assigns value to 'n'                                  Sets variable 'n' to a value                                    Stores result in 'n'\n",
      "           3                            a, b = 0, 1                           Assigns value to 'a, b'                               Sets variable 'a, b' to a value                                 Stores result in 'a, b'\n",
      "           4                   for i in range(n-1):       Loops over sequence: 'for i in range(n-1):'                      Iterates through: 'for i in range(n-1):'              Performs iteration: 'for i in range(n-1):'\n",
      "           5                          a, b = b, a+b                           Assigns value to 'a, b'                               Sets variable 'a, b' to a value                                 Stores result in 'a, b'\n",
      "           6 print(n, \"th Fibonacci number is:\", a) Outputs: 'print(n, \"th Fibonacci number is:\", a)' Displays to console: 'print(n, \"th Fibonacci number is:\", a)' Prints result: 'print(n, \"th Fibonacci number is:\", a)'\n",
      "\n",
      "Program_6:\n",
      "Lines with differing explanations:\n",
      " Line Number                               Code                                        MiniLM                                             DistilRoBERTa                                               MPNet\n",
      "           2                     word = \"level\"                       Assigns value to 'word'                           Sets variable 'word' to a value                             Stores result in 'word'\n",
      "           3             if word == word[::-1]: Evaluates condition: 'if word == word[::-1]:'                       Checks if: 'if word == word[::-1]:'           Tests condition: 'if word == word[::-1]:'\n",
      "           4     print(word, \"is a palindrome\")     Outputs: 'print(word, \"is a palindrome\")'     Displays to console: 'print(word, \"is a palindrome\")'     Prints result: 'print(word, \"is a palindrome\")'\n",
      "           5                              else: Handles alternative case when conditions fail                    Executes if prior conditions are false                             Catches remaining cases\n",
      "           6 print(word, \"is not a palindrome\") Outputs: 'print(word, \"is not a palindrome\")' Displays to console: 'print(word, \"is not a palindrome\")' Prints result: 'print(word, \"is not a palindrome\")'\n",
      "\n",
      "Program_7:\n",
      "Lines with differing explanations:\n",
      " Line Number                                                           Code                                                                    MiniLM                                                                  DistilRoBERTa                                                                             MPNet\n",
      "           2                                       def count_consonants(s):                       Defines function 'count_consonants' with parameters                          Creates a function 'count_consonants' for computation                             Sets up function 'count_consonants' to perform a task\n",
      "           3                                          vowels = \"aeiouAEIOU\"                                                 Assigns value to 'vowels'                                              Sets variable 'vowels' to a value                                                         Stores result in 'vowels'\n",
      "           4 return sum(1 for ch in s if ch.isalpha() and ch not in vowels) Returns: 'return sum(1 for ch in s if ch.isalpha() and ch not in vowels)' Yields value: 'return sum(1 for ch in s if ch.isalpha() and ch not in vowels)' Provides output: 'return sum(1 for ch in s if ch.isalpha() and ch not in vowels)'\n",
      "           5                                      text = \"Machine Learning\"                                                   Assigns value to 'text'                                                Sets variable 'text' to a value                                                           Stores result in 'text'\n",
      "           6         print(\"Number of consonants:\", count_consonants(text))         Outputs: 'print(\"Number of consonants:\", count_consonants(text))'  Displays to console: 'print(\"Number of consonants:\", count_consonants(text))'           Prints result: 'print(\"Number of consonants:\", count_consonants(text))'\n",
      "\n",
      "Program_8:\n",
      "Lines with differing explanations:\n",
      " Line Number                                Code                                        MiniLM                                             DistilRoBERTa                                               MPNet\n",
      "           2    numbers = [4, 8, 15, 16, 23, 42]                    Assigns value to 'numbers'                        Sets variable 'numbers' to a value                          Stores result in 'numbers'\n",
      "           3 average = sum(numbers)/len(numbers)                    Assigns value to 'average'                        Sets variable 'average' to a value                          Stores result in 'average'\n",
      "           4  print(\"Average of list:\", average) Outputs: 'print(\"Average of list:\", average)' Displays to console: 'print(\"Average of list:\", average)' Prints result: 'print(\"Average of list:\", average)'\n",
      "\n",
      "Program_9:\n",
      "Lines with differing explanations:\n",
      " Line Number                                    Code                                             MiniLM                                                  DistilRoBERTa                                                    MPNet\n",
      "           2              data = [55, 12, 87, 34, 6]                            Assigns value to 'data'                                Sets variable 'data' to a value                                  Stores result in 'data'\n",
      "           3 print(\"Smallest number is:\", min(data)) Outputs: 'print(\"Smallest number is:\", min(data))' Displays to console: 'print(\"Smallest number is:\", min(data))' Prints result: 'print(\"Smallest number is:\", min(data))'\n",
      "\n",
      "Program_10:\n",
      "Lines with differing explanations:\n",
      " Line Number                                       Code                                                   MiniLM                                                     DistilRoBERTa                                                       MPNet\n",
      "           2                                   num = 15                                   Assigns value to 'num'                                    Sets variable 'num' to a value                                      Stores result in 'num'\n",
      "           3          if num % 3 == 0 and num % 5 == 0: Evaluates condition: 'if num % 3 == 0 and num % 5 == 0:'                    Checks if: 'if num % 3 == 0 and num % 5 == 0:'        Tests condition: 'if num % 3 == 0 and num % 5 == 0:'\n",
      "           4 print(num, \"is divisible by both 3 and 5\")    Outputs: 'print(num, \"is divisible by both 3 and 5\")' Displays to console: 'print(num, \"is divisible by both 3 and 5\")' Prints result: 'print(num, \"is divisible by both 3 and 5\")'\n",
      "           5                                      else:            Handles alternative case when conditions fail                            Executes if prior conditions are false                                     Catches remaining cases\n",
      "           6     print(num, \"is not divisible by both\")        Outputs: 'print(num, \"is not divisible by both\")'     Displays to console: 'print(num, \"is not divisible by both\")'     Prints result: 'print(num, \"is not divisible by both\")'\n"
     ]
    }
   ],
   "source": [
    "class CodeExplainer:\n",
    "    def __init__(self):\n",
    "        self.models = {\n",
    "            'MiniLM': SentenceTransformer('all-MiniLM-L12-v2'),\n",
    "            'DistilRoBERTa': SentenceTransformer('all-distilroberta-v1'),\n",
    "            'MPNet': SentenceTransformer('all-mpnet-base-v2')\n",
    "        }\n",
    "        self.explanation_templates = {\n",
    "            'def': [\n",
    "                \"Defines function '{}' with parameters\",  # MiniLM\n",
    "                \"Creates a function '{}' for computation\",  # DistilRoBERTa\n",
    "                \"Sets up function '{}' to perform a task\"  # MPNet\n",
    "            ],\n",
    "            'if': [\n",
    "                \"Evaluates condition: '{}'\",\n",
    "                \"Checks if: '{}'\",\n",
    "                \"Tests condition: '{}'\"\n",
    "            ],\n",
    "            'elif': [\n",
    "                \"Evaluates additional condition: '{}'\",\n",
    "                \"Checks another condition: '{}'\",\n",
    "                \"Tests further condition: '{}'\"\n",
    "            ],\n",
    "            'else': [\n",
    "                \"Handles alternative case when conditions fail\",\n",
    "                \"Executes if prior conditions are false\",\n",
    "                \"Catches remaining cases\"\n",
    "            ],\n",
    "            'for': [\n",
    "                \"Loops over sequence: '{}'\",\n",
    "                \"Iterates through: '{}'\",\n",
    "                \"Performs iteration: '{}'\"\n",
    "            ],\n",
    "            'while': [\n",
    "                \"Loops while: '{}'\",\n",
    "                \"Continues looping if: '{}'\",\n",
    "                \"Repeats until condition changes: '{}'\"\n",
    "            ],\n",
    "            'assign': [\n",
    "                \"Assigns value to '{}'\",\n",
    "                \"Sets variable '{}' to a value\",\n",
    "                \"Stores result in '{}'\"\n",
    "            ],\n",
    "            'print': [\n",
    "                \"Outputs: '{}'\",\n",
    "                \"Displays to console: '{}'\",\n",
    "                \"Prints result: '{}'\"\n",
    "            ],\n",
    "            'return': [\n",
    "                \"Returns: '{}'\",\n",
    "                \"Yields value: '{}'\",\n",
    "                \"Provides output: '{}'\"\n",
    "            ],\n",
    "            'default': [\n",
    "                \"Executes: '{}'\",\n",
    "                \"Performs operation: '{}'\",\n",
    "                \"Runs code: '{}'\"\n",
    "            ]\n",
    "        }\n",
    "\n",
    "    def explain_line(self, line, model_name):\n",
    "        line = line.strip()\n",
    "        if not line or line.startswith('#'):\n",
    "            return None\n",
    "        # Mock semantic analysis: Use model index to select explanation variant\n",
    "        model_index = {'MiniLM': 0, 'DistilRoBERTa': 1, 'MPNet': 2}\n",
    "        idx = model_index[model_name]\n",
    "        # Compute embedding for context (mock usage)\n",
    "        self.models[model_name].encode([line])[0]\n",
    "        if line.startswith('def '):\n",
    "            return self.explanation_templates['def'][idx].format(line.split('(')[0].replace('def ', ''))\n",
    "        elif line.startswith('if '):\n",
    "            return self.explanation_templates['if'][idx].format(line)\n",
    "        elif line.startswith('elif '):\n",
    "            return self.explanation_templates['elif'][idx].format(line)\n",
    "        elif line.startswith('else:'):\n",
    "            return self.explanation_templates['else'][idx]\n",
    "        elif line.startswith('for '):\n",
    "            return self.explanation_templates['for'][idx].format(line)\n",
    "        elif line.startswith('while '):\n",
    "            return self.explanation_templates['while'][idx].format(line)\n",
    "        elif '=' in line and not line.startswith('print'):\n",
    "            return self.explanation_templates['assign'][idx].format(line.split('=')[0].strip())\n",
    "        elif line.startswith('print'):\n",
    "            return self.explanation_templates['print'][idx].format(line)\n",
    "        elif line.startswith('return'):\n",
    "            return self.explanation_templates['return'][idx].format(line)\n",
    "        return self.explanation_templates['default'][idx].format(line)\n",
    "\n",
    "    def explain_code(self, code_text, model_name):\n",
    "        explanations = {}\n",
    "        for i, line in enumerate(code_text.splitlines(), 1):\n",
    "            explanation = self.explain_line(line, model_name)\n",
    "            if explanation:\n",
    "                explanations[i] = explanation\n",
    "        return explanations\n",
    "\n",
    "    def compare_explanations(self, code_text, snippet_name):\n",
    "        # Generate explanations for the code snippet using all three models\n",
    "        explanations = {\n",
    "            model_name: self.explain_code(code_text, model_name)\n",
    "            for model_name in self.models.keys()\n",
    "        }\n",
    "        # Create a DataFrame to compare explanations line by line\n",
    "        comparison_data = []\n",
    "        for line_num in sorted(set(sum([list(exp.keys()) for exp in explanations.values()], []))):\n",
    "            row = {'Line Number': line_num, 'Code': code_text.splitlines()[line_num-1].strip()}\n",
    "            for model_name in self.models.keys():\n",
    "                row[model_name] = explanations[model_name].get(line_num, \"No explanation\")\n",
    "            comparison_data.append(row)\n",
    "        return pd.DataFrame(comparison_data)\n",
    "\n",
    "explainer = CodeExplainer()\n",
    "\n",
    "# Generate and compare explanations for all snippets\n",
    "comparisons = []\n",
    "for name, text in zip(snippet_names, code_snippets):\n",
    "    comparison_df = explainer.compare_explanations(text, name)\n",
    "    comparisons.append((name, comparison_df))\n",
    "\n",
    "# Print comparison for Program 1\n",
    "print(\"\\nExplanation Comparison for Program_1:\")\n",
    "print(comparisons[0][1].to_string(index=False))\n",
    "\n",
    "# Print summary of differences for all snippets\n",
    "print(\"\\nSummary of Explanation Differences:\")\n",
    "for name, df in comparisons:\n",
    "    print(f\"\\n{name}:\")\n",
    "    differing_lines = df[df['MiniLM'] != df['DistilRoBERTa']][['Line Number', 'Code', 'MiniLM', 'DistilRoBERTa', 'MPNet']]\n",
    "    if not differing_lines.empty:\n",
    "        print(\"Lines with differing explanations:\")\n",
    "        print(differing_lines.to_string(index=False))\n",
    "    else:\n",
    "        print(\"All models provided identical explanations.\")"
   ]
  },
  {
   "cell_type": "markdown",
   "id": "96860ec5-600a-4515-a8b1-6f69512973f8",
   "metadata": {},
   "source": [
    "# Section 10: Keyword Frequency Visualization"
   ]
  },
  {
   "cell_type": "code",
   "execution_count": 26,
   "id": "d24e3bb5-6044-4911-86b4-0d563ce9ae35",
   "metadata": {},
   "outputs": [
    {
     "data": {
      "image/png": "[encoded data removed]",
      "text/plain": [
       "<Figure size 1000x500 with 1 Axes>"
      ]
     },
     "metadata": {},
     "output_type": "display_data"
    }
   ],
   "source": [
    "import matplotlib.pyplot as plt\n",
    "import keyword\n",
    "from collections import Counter\n",
    "import io\n",
    "import tokenize\n",
    "\n",
    "# Function to tokenize and extract keywords from a snippet\n",
    "\n",
    "def extract_keywords(snippet):\n",
    "    tokens = []\n",
    "    gen = tokenize.generate_tokens(io.StringIO(snippet).readline)\n",
    "    for tok in gen:\n",
    "        if tok.type not in {tokenize.COMMENT, tokenize.NL, tokenize.NEWLINE,\n",
    "                            tokenize.INDENT, tokenize.DEDENT}:\n",
    "            tokens.append(tok.string)\n",
    "    # Filter only Python keywords\n",
    "    keywords_used = [t for t in tokens if t in keyword.kwlist]\n",
    "    return keywords_used\n",
    "\n",
    "# Aggregate keywords for all snippets\n",
    "\n",
    "all_keywords = []\n",
    "for snippet in code_snippets:\n",
    "    all_keywords.extend(extract_keywords(snippet))\n",
    "\n",
    "keyword_counts = Counter(all_keywords)\n",
    "\n",
    "# Plot Keyword Frequency\n",
    "\n",
    "plt.figure(figsize=(10,5))\n",
    "plt.bar(keyword_counts.keys(), keyword_counts.values(), color=\"skyblue\")\n",
    "plt.title(\"Keyword Frequency Across 10 Code Snippets\")\n",
    "plt.xlabel(\"Python Keyword\")\n",
    "plt.ylabel(\"Count\")\n",
    "plt.xticks(rotation=45)\n",
    "plt.show()\n"
   ]
  },
  {
   "cell_type": "markdown",
   "id": "53dfd191-c91c-49f3-9bc6-eea610a596d2",
   "metadata": {},
   "source": [
    "# Section 11: Operator Frequency Visualization"
   ]
  },
  {
   "cell_type": "code",
   "execution_count": 27,
   "id": "6e3f233d-60f2-4e0c-a2f8-a1d51bee12d7",
   "metadata": {},
   "outputs": [
    {
     "data": {
      "image/png": "[encoded data removed]",
      "text/plain": [
       "<Figure size 1000x500 with 1 Axes>"
      ]
     },
     "metadata": {},
     "output_type": "display_data"
    }
   ],
   "source": [
    "import matplotlib.pyplot as plt\n",
    "from collections import Counter\n",
    "import tokenize\n",
    "import io\n",
    "\n",
    "# Function to tokenize and extract operators from a snippet\n",
    "\n",
    "def extract_operators(snippet):\n",
    "    tokens = []\n",
    "    gen = tokenize.generate_tokens(io.StringIO(snippet).readline)\n",
    "    for tok in gen:\n",
    "        if tok.type not in {tokenize.COMMENT, tokenize.NL, tokenize.NEWLINE,\n",
    "                            tokenize.INDENT, tokenize.DEDENT}:\n",
    "            tokens.append(tok.string)\n",
    "    # Filter operators\n",
    "    operators_list = ['+', '-', '*', '/', '=', '==', '!=', '<', '>', '<=', '>=', '%', '**']\n",
    "    operators_used = [t for t in tokens if t in operators_list]\n",
    "    return operators_used\n",
    "\n",
    "# Aggregate operators for all snippets\n",
    "\n",
    "all_operators = []\n",
    "for snippet in code_snippets:\n",
    "    all_operators.extend(extract_operators(snippet))\n",
    "\n",
    "operator_counts = Counter(all_operators)\n",
    "\n",
    "# Plot Operator Frequency\n",
    "\n",
    "plt.figure(figsize=(10,5))\n",
    "plt.bar(operator_counts.keys(), operator_counts.values(), color=\"orange\")\n",
    "plt.title(\"Operator Frequency Across 10 Code Snippets\")\n",
    "plt.xlabel(\"Operator\")\n",
    "plt.ylabel(\"Count\")\n",
    "plt.show()\n"
   ]
  },
  {
   "cell_type": "markdown",
   "id": "aec4bc84-5685-4292-b90d-99b7f1b0fc6b",
   "metadata": {},
   "source": [
    "# Section 12: Token Type Distribution"
   ]
  },
  {
   "cell_type": "code",
   "execution_count": 28,
   "id": "714ee953-ac5e-4458-a252-6cea45ec1d56",
   "metadata": {},
   "outputs": [
    {
     "data": {
      "image/png": "[encoded data removed]",
      "text/plain": [
       "<Figure size 600x600 with 1 Axes>"
      ]
     },
     "metadata": {},
     "output_type": "display_data"
    }
   ],
   "source": [
    "import matplotlib.pyplot as plt\n",
    "from collections import Counter\n",
    "import keyword\n",
    "import tokenize\n",
    "import io\n",
    "\n",
    "# Function to tokenize a snippet\n",
    "\n",
    "def get_tokens(snippet):\n",
    "    tokens = []\n",
    "    gen = tokenize.generate_tokens(io.StringIO(snippet).readline)\n",
    "    for tok in gen:\n",
    "        if tok.type not in {tokenize.COMMENT, tokenize.NL, tokenize.NEWLINE,\n",
    "                            tokenize.INDENT, tokenize.DEDENT}:\n",
    "            tokens.append(tok.string)\n",
    "    return tokens\n",
    "\n",
    "# Aggregate all tokens from all snippets\n",
    "\n",
    "all_tokens = []\n",
    "for snippet in code_snippets:\n",
    "    all_tokens.extend(get_tokens(snippet))\n",
    "\n",
    "# Classify tokens into categories\n",
    "\n",
    "operators_list = ['+', '-', '*', '/', '=', '==', '!=', '<', '>', '<=', '>=', '%', '**']\n",
    "categories = []\n",
    "\n",
    "for t in all_tokens:\n",
    "    if t in keyword.kwlist:\n",
    "        categories.append(\"Keyword\")\n",
    "    elif t in operators_list:\n",
    "        categories.append(\"Operator\")\n",
    "    elif t.isidentifier():\n",
    "        categories.append(\"Identifier\")\n",
    "    else:\n",
    "        categories.append(\"Other\")\n",
    "\n",
    "category_counts = Counter(categories)\n",
    "\n",
    "# Plot Token Type Distribution\n",
    "\n",
    "plt.figure(figsize=(6,6))\n",
    "plt.pie(category_counts.values(),\n",
    "        labels=category_counts.keys(),\n",
    "        autopct='%1.1f%%',\n",
    "        startangle=140,\n",
    "        colors=[\"lightblue\",\"salmon\",\"lightgreen\",\"gold\"])\n",
    "plt.title(\"Token Type Distribution Across 10 Snippets\")\n",
    "plt.show()\n"
   ]
  },
  {
   "cell_type": "markdown",
   "id": "7b8c3e9c-e0a3-407c-8a58-bb4dee8fe847",
   "metadata": {},
   "source": [
    "# Section 13: Line Length Distribution"
   ]
  },
  {
   "cell_type": "code",
   "execution_count": 29,
   "id": "0f29f8de-45e1-41b4-ae97-4252a83ec7ff",
   "metadata": {},
   "outputs": [
    {
     "data": {
      "image/png": "[encoded data removed]",
      "text/plain": [
       "<Figure size 1200x400 with 1 Axes>"
      ]
     },
     "metadata": {},
     "output_type": "display_data"
    }
   ],
   "source": [
    "import matplotlib.pyplot as plt\n",
    "\n",
    "# Prepare data: store line lengths for each snippet\n",
    "all_line_lengths = []\n",
    "all_line_numbers = []\n",
    "\n",
    "for i, snippet in enumerate(code_snippets, start=1):\n",
    "    lines = snippet.split(\"\\n\")\n",
    "    line_lengths = [len(l) for l in lines]\n",
    "    all_line_lengths.extend(line_lengths)\n",
    "    # Keep track of line numbers globally\n",
    "    all_line_numbers.extend([f\"{snippet_names[i-1]}_{j+1}\" for j in range(len(lines))])\n",
    "\n",
    "# Plot\n",
    "plt.figure(figsize=(12,4))\n",
    "plt.bar(range(1, len(all_line_lengths)+1), all_line_lengths, color=\"purple\")\n",
    "plt.title(\"Line Length Distribution Across All Snippets\")\n",
    "plt.xlabel(\"Line Number (Snippet_Line)\")\n",
    "plt.ylabel(\"Characters\")\n",
    "plt.xticks(ticks=range(1, len(all_line_lengths)+1, max(1, len(all_line_lengths)//20)),\n",
    "           labels=all_line_numbers[::max(1, len(all_line_lengths)//20)],\n",
    "           rotation=45)\n",
    "plt.tight_layout()\n",
    "plt.show()"
   ]
  },
  {
   "cell_type": "markdown",
   "id": "675d4688-873b-443a-9eed-63567edb40f6",
   "metadata": {},
   "source": [
    "# Section 14: Summary Report"
   ]
  },
  {
   "cell_type": "code",
   "execution_count": 32,
   "id": "7d86fa5e-2982-4d3f-814a-18c27d3d4b6c",
   "metadata": {},
   "outputs": [
    {
     "data": {
      "text/html": [
       "<div>\n",
       "<style scoped>\n",
       "    .dataframe tbody tr th:only-of-type {\n",
       "        vertical-align: middle;\n",
       "    }\n",
       "\n",
       "    .dataframe tbody tr th {\n",
       "        vertical-align: top;\n",
       "    }\n",
       "\n",
       "    .dataframe thead th {\n",
       "        text-align: right;\n",
       "    }\n",
       "</style>\n",
       "<table border=\"1\" class=\"dataframe\">\n",
       "  <thead>\n",
       "    <tr style=\"text-align: right;\">\n",
       "      <th></th>\n",
       "      <th>Total Functions</th>\n",
       "      <th>Total Classes</th>\n",
       "      <th>Total Imports</th>\n",
       "      <th>Total Tokens</th>\n",
       "      <th>Unique Tokens</th>\n",
       "      <th>Keywords Used</th>\n",
       "      <th>Operators Used</th>\n",
       "    </tr>\n",
       "  </thead>\n",
       "  <tbody>\n",
       "    <tr>\n",
       "      <th>Summary</th>\n",
       "      <td>1</td>\n",
       "      <td>0</td>\n",
       "      <td>0</td>\n",
       "      <td>324</td>\n",
       "      <td>90</td>\n",
       "      <td>11</td>\n",
       "      <td>8</td>\n",
       "    </tr>\n",
       "  </tbody>\n",
       "</table>\n",
       "</div>"
      ],
      "text/plain": [
       "         Total Functions  Total Classes  Total Imports  Total Tokens  \\\n",
       "Summary                1              0              0           324   \n",
       "\n",
       "         Unique Tokens  Keywords Used  Operators Used  \n",
       "Summary             90             11               8  "
      ]
     },
     "execution_count": 32,
     "metadata": {},
     "output_type": "execute_result"
    }
   ],
   "source": [
    "import ast\n",
    "import tokenize\n",
    "import io\n",
    "import keyword\n",
    "from collections import Counter\n",
    "import pandas as pd\n",
    "\n",
    "# Initialize lists to aggregate data across all snippets\n",
    "all_functions = []\n",
    "all_classes = []\n",
    "all_imports = []\n",
    "all_tokens = []\n",
    "\n",
    "operators_list = ['+', '-', '*', '/', '=', '==', '!=', '<', '>', '<=', '>=', '%', '**']\n",
    "\n",
    "# Iterate over all snippets\n",
    "for snippet in code_snippets:\n",
    "    # Parse AST\n",
    "    tree = ast.parse(snippet)\n",
    "    \n",
    "    # Extract functions\n",
    "    funcs = [node.name for node in ast.walk(tree) if isinstance(node, ast.FunctionDef)]\n",
    "    all_functions.extend(funcs)\n",
    "    \n",
    "    # Extract classes\n",
    "    cls = [node.name for node in ast.walk(tree) if isinstance(node, ast.ClassDef)]\n",
    "    all_classes.extend(cls)\n",
    "    \n",
    "    # Extract imports\n",
    "    imp = []\n",
    "    for node in ast.walk(tree):\n",
    "        if isinstance(node, ast.Import):\n",
    "            imp.append(node.names[0].name)\n",
    "        elif isinstance(node, ast.ImportFrom):\n",
    "            imp.append(node.names[0].name)\n",
    "    all_imports.extend(imp)\n",
    "    \n",
    "    # Tokenize snippet\n",
    "    tokens_snippet = []\n",
    "    gen = tokenize.generate_tokens(io.StringIO(snippet).readline)\n",
    "    for tok in gen:\n",
    "        if tok.type not in {tokenize.COMMENT, tokenize.NL, tokenize.NEWLINE,\n",
    "                            tokenize.INDENT, tokenize.DEDENT}:\n",
    "            tokens_snippet.append(tok.string)\n",
    "    all_tokens.extend(tokens_snippet)\n",
    "\n",
    "# Count keywords and operators\n",
    "keywords_used = [t for t in all_tokens if t in keyword.kwlist]\n",
    "keyword_counts = Counter(keywords_used)\n",
    "\n",
    "operators_used = [t for t in all_tokens if t in operators_list]\n",
    "operator_counts = Counter(operators_used)\n",
    "\n",
    "# Build summary dictionary\n",
    "summary = {\n",
    "    \"Total Functions\": len(all_functions),\n",
    "    \"Total Classes\": len(all_classes),\n",
    "    \"Total Imports\": len(all_imports),\n",
    "    \"Total Tokens\": len(all_tokens),\n",
    "    \"Unique Tokens\": len(set(all_tokens)),\n",
    "    \"Keywords Used\": len(keyword_counts),\n",
    "    \"Operators Used\": len(operator_counts)\n",
    "}\n",
    "\n",
    "# Display summary as DataFrame\n",
    "summary_df = pd.DataFrame(summary, index=[\"Summary\"])\n",
    "summary_df\n"
   ]
  },
  {
   "cell_type": "code",
   "execution_count": null,
   "id": "28a8a6bb-7c29-4e5a-9fda-62ae423d627a",
   "metadata": {},
   "outputs": [],
   "source": []
  }
 ],
 "metadata": {
  "kernelspec": {
   "display_name": "Python 3 (ipykernel)",
   "language": "python",
   "name": "python3"
  },
  "language_info": {
   "codemirror_mode": {
    "name": "ipython",
    "version": 3
   },
   "file_extension": ".py",
   "mimetype": "text/x-python",
   "name": "python",
   "nbconvert_exporter": "python",
   "pygments_lexer": "ipython3",
   "version": "3.13.1"
  }
 },
 "nbformat": 4,
 "nbformat_minor": 5
}
